{
  "cells": [
    {
      "cell_type": "markdown",
      "metadata": {
        "id": "vSYhD3ues08z"
      },
      "source": [
        "Instalação a biblioteca Paho MQTT"
      ]
    },
    {
      "cell_type": "code",
      "execution_count": null,
      "metadata": {
        "id": "yKd6U4hMpgc0"
      },
      "outputs": [],
      "source": [
        "!pip install paho-mqtt"
      ]
    },
    {
      "cell_type": "markdown",
      "metadata": {
        "id": "95zQ6W9XDxdU"
      },
      "source": [
        "Leitura tópico (Subscriber)"
      ]
    },
    {
      "cell_type": "code",
      "execution_count": null,
      "metadata": {
        "id": "sz0cYdS51yST"
      },
      "outputs": [],
      "source": [
        "import paho.mqtt.client as mqtt\n",
        "import sys\n",
        "\n",
        "#definicoes:\n",
        "Broker = \"{{url}}\"\n",
        "PortaBroker = 1883\n",
        "KeepAliveBroker = 60\n",
        "TopicoSubscribe = \"/TEF/device001/attrs/p\"\n",
        "\n",
        "#Callback - conexao ao broker realizada\n",
        "def on_connect(client, userdata, flags, rc):\n",
        "    print(\"[STATUS] Conectado ao Broker. Resultado de conexao: \"+str(rc))\n",
        "\n",
        "    #faz subscribe automatico no topico\n",
        "    client.subscribe(TopicoSubscribe)\n",
        "\n",
        "#Callback - mensagem recebida do broker\n",
        "def on_message(client, userdata, msg):\n",
        "    MensagemRecebida = str(msg.payload)\n",
        "    print(\"[MSG RECEBIDA] Topico: \"+msg.topic+\" / Mensagem: \"+MensagemRecebida)\n",
        "\n",
        "\n",
        "#programa principal:\n",
        "print(\"[STATUS] Inicializando MQTT...\")\n",
        "#inicializa MQTT:\n",
        "client = mqtt.Client(mqtt.CallbackAPIVersion.VERSION1)\n",
        "client.on_connect = on_connect\n",
        "client.on_message = on_message\n",
        "\n",
        "client.connect(Broker, PortaBroker, KeepAliveBroker)\n",
        "client.loop_forever()"
      ]
    },
    {
      "cell_type": "markdown",
      "metadata": {
        "id": "FDWIIHejWtje"
      },
      "source": [
        "Escrita tópico MQTT (Publisher) - Liga Led"
      ]
    },
    {
      "cell_type": "code",
      "execution_count": null,
      "metadata": {
        "id": "FaK3NMmm8MqH"
      },
      "outputs": [],
      "source": [
        "import paho.mqtt.client as mqtt\n",
        "import sys\n",
        "\n",
        "#definicoes:\n",
        "Broker = \"{{url}}\"\n",
        "PortaBroker = 1883\n",
        "KeepAliveBroker = 60\n",
        "TopicoSubscribe = \"/TEF/device001/cmd\"\n",
        "\n",
        "client.connect(Broker, PortaBroker, KeepAliveBroker)\n",
        "client.publish(TopicoSubscribe,\"device001@on|\")"
      ]
    },
    {
      "cell_type": "markdown",
      "metadata": {
        "id": "iq_eigTyW5R4"
      },
      "source": [
        "Escrita tópico MQTT (Publisher) - Desliga Led"
      ]
    },
    {
      "cell_type": "code",
      "execution_count": null,
      "metadata": {
        "id": "BryEC5jX9ELS"
      },
      "outputs": [],
      "source": [
        "import paho.mqtt.client as mqtt\n",
        "import sys\n",
        "\n",
        "#definicoes:\n",
        "Broker = \"{{url}}\"\n",
        "PortaBroker = 1883\n",
        "KeepAliveBroker = 60\n",
        "TopicoSubscribe = \"/TEF/device001/cmd\"\n",
        "\n",
        "client.connect(Broker, PortaBroker, KeepAliveBroker)\n",
        "client.publish(TopicoSubscribe,\"device001@off|\")"
      ]
    }
  ],
  "metadata": {
    "colab": {
      "provenance": []
    },
    "kernelspec": {
      "display_name": "Python 3",
      "name": "python3"
    },
    "language_info": {
      "name": "python"
    }
  },
  "nbformat": 4,
  "nbformat_minor": 0
}